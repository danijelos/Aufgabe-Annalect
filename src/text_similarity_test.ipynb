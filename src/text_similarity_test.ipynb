{
 "cells": [
  {
   "cell_type": "code",
   "execution_count": 53,
   "metadata": {},
   "outputs": [],
   "source": [
    "import pandas as pd\n",
    "import json\n",
    "from torch.utils.data import Dataset\n",
    "from sentence_transformers import SentenceTransformer\n",
    "from sklearn.metrics.pairwise import cosine_similarity\n",
    "import numpy as np"
   ]
  },
  {
   "cell_type": "markdown",
   "metadata": {},
   "source": [
    "## Load the json file and convert it to dataframe"
   ]
  },
  {
   "cell_type": "code",
   "execution_count": 66,
   "metadata": {},
   "outputs": [
    {
     "name": "stdout",
     "output_type": "stream",
     "text": [
      "   segment_id                                        description\n",
      "0           1  PartnerSolutions > 208838 > Interest > Home & ...\n",
      "1           2  PartnerSolutions > 208758 > Interest > Sports ...\n",
      "2           3  Technology & Computing - MediaGroup DACH - Ind...\n",
      "3           4  Media & Enertainment - MediaGroup DACH - Movie...\n",
      "4           5                         letriq age: 18-19 @adality\n",
      "5           6                       letriq age: females @adality\n",
      "6           7  HDGQ Branche/Industrie: automobil/fahrzeugbau/...\n",
      "7           8  HDGQ Branche/Industrie: Finanzservices/Banken/...\n"
     ]
    }
   ],
   "source": [
    "# Load JSON data from file\n",
    "with open('C:/Users/danie/anaconda3/envs/daniel_dev/git/data/test_audiences.json', 'r') as file:\n",
    "    data = json.load(file)\n",
    "# Extract test_audiences data\n",
    "test_audiences = data['test_audiences']\n",
    "# Convert to DataFrame\n",
    "target_df = pd.DataFrame(test_audiences)\n",
    "# Display DataFrame\n",
    "print(target_df)"
   ]
  },
  {
   "cell_type": "markdown",
   "metadata": {},
   "source": [
    "## Load the source csv file"
   ]
  },
  {
   "cell_type": "code",
   "execution_count": 56,
   "metadata": {},
   "outputs": [
    {
     "data": {
      "text/html": [
       "<div>\n",
       "<style scoped>\n",
       "    .dataframe tbody tr th:only-of-type {\n",
       "        vertical-align: middle;\n",
       "    }\n",
       "\n",
       "    .dataframe tbody tr th {\n",
       "        vertical-align: top;\n",
       "    }\n",
       "\n",
       "    .dataframe thead th {\n",
       "        text-align: right;\n",
       "    }\n",
       "</style>\n",
       "<table border=\"1\" class=\"dataframe\">\n",
       "  <thead>\n",
       "    <tr style=\"text-align: right;\">\n",
       "      <th></th>\n",
       "      <th>label_id_long</th>\n",
       "      <th>label_id</th>\n",
       "      <th>parent_id</th>\n",
       "      <th>segment_description</th>\n",
       "      <th>label_name</th>\n",
       "    </tr>\n",
       "  </thead>\n",
       "  <tbody>\n",
       "    <tr>\n",
       "      <th>0</th>\n",
       "      <td>10000000000</td>\n",
       "      <td>1</td>\n",
       "      <td>0</td>\n",
       "      <td>NaN</td>\n",
       "      <td>Demographic</td>\n",
       "    </tr>\n",
       "    <tr>\n",
       "      <th>1</th>\n",
       "      <td>10100000000</td>\n",
       "      <td>101</td>\n",
       "      <td>1</td>\n",
       "      <td>age</td>\n",
       "      <td>Demographic  Age Range</td>\n",
       "    </tr>\n",
       "    <tr>\n",
       "      <th>2</th>\n",
       "      <td>10101000000</td>\n",
       "      <td>10101</td>\n",
       "      <td>101</td>\n",
       "      <td>age</td>\n",
       "      <td>Demographic  Age Range  18-20</td>\n",
       "    </tr>\n",
       "    <tr>\n",
       "      <th>3</th>\n",
       "      <td>10102000000</td>\n",
       "      <td>10102</td>\n",
       "      <td>101</td>\n",
       "      <td>age</td>\n",
       "      <td>Demographic  Age Range  18-24</td>\n",
       "    </tr>\n",
       "    <tr>\n",
       "      <th>4</th>\n",
       "      <td>10103000000</td>\n",
       "      <td>10103</td>\n",
       "      <td>101</td>\n",
       "      <td>age</td>\n",
       "      <td>Demographic  Age Range  21-24</td>\n",
       "    </tr>\n",
       "    <tr>\n",
       "      <th>...</th>\n",
       "      <td>...</td>\n",
       "      <td>...</td>\n",
       "      <td>...</td>\n",
       "      <td>...</td>\n",
       "      <td>...</td>\n",
       "    </tr>\n",
       "    <tr>\n",
       "      <th>1625</th>\n",
       "      <td>51100000000</td>\n",
       "      <td>510</td>\n",
       "      <td>5</td>\n",
       "      <td>Frequency of video gaming</td>\n",
       "      <td>Purchases &amp; Consumption  Video Gaming</td>\n",
       "    </tr>\n",
       "    <tr>\n",
       "      <th>1626</th>\n",
       "      <td>51101000000</td>\n",
       "      <td>51001</td>\n",
       "      <td>510</td>\n",
       "      <td>Frequency of video gaming</td>\n",
       "      <td>Purchases &amp; Consumption  Video Gaming  Console...</td>\n",
       "    </tr>\n",
       "    <tr>\n",
       "      <th>1627</th>\n",
       "      <td>51102000000</td>\n",
       "      <td>51002</td>\n",
       "      <td>510</td>\n",
       "      <td>Frequency of video gaming</td>\n",
       "      <td>Purchases &amp; Consumption  Video Gaming  eSports</td>\n",
       "    </tr>\n",
       "    <tr>\n",
       "      <th>1628</th>\n",
       "      <td>51103000000</td>\n",
       "      <td>51003</td>\n",
       "      <td>510</td>\n",
       "      <td>Frequency of video gaming</td>\n",
       "      <td>Purchases &amp; Consumption  Video Gaming  Mobile ...</td>\n",
       "    </tr>\n",
       "    <tr>\n",
       "      <th>1629</th>\n",
       "      <td>51104000000</td>\n",
       "      <td>51004</td>\n",
       "      <td>510</td>\n",
       "      <td>Frequency of video gaming</td>\n",
       "      <td>Purchases &amp; Consumption  Video Gaming  PC Games</td>\n",
       "    </tr>\n",
       "  </tbody>\n",
       "</table>\n",
       "<p>1630 rows × 5 columns</p>\n",
       "</div>"
      ],
      "text/plain": [
       "      label_id_long  label_id  parent_id        segment_description  \\\n",
       "0       10000000000         1          0                        NaN   \n",
       "1       10100000000       101          1                        age   \n",
       "2       10101000000     10101        101                        age   \n",
       "3       10102000000     10102        101                        age   \n",
       "4       10103000000     10103        101                        age   \n",
       "...             ...       ...        ...                        ...   \n",
       "1625    51100000000       510          5  Frequency of video gaming   \n",
       "1626    51101000000     51001        510  Frequency of video gaming   \n",
       "1627    51102000000     51002        510  Frequency of video gaming   \n",
       "1628    51103000000     51003        510  Frequency of video gaming   \n",
       "1629    51104000000     51004        510  Frequency of video gaming   \n",
       "\n",
       "                                             label_name  \n",
       "0                                           Demographic  \n",
       "1                                Demographic  Age Range  \n",
       "2                         Demographic  Age Range  18-20  \n",
       "3                         Demographic  Age Range  18-24  \n",
       "4                         Demographic  Age Range  21-24  \n",
       "...                                                 ...  \n",
       "1625              Purchases & Consumption  Video Gaming  \n",
       "1626  Purchases & Consumption  Video Gaming  Console...  \n",
       "1627     Purchases & Consumption  Video Gaming  eSports  \n",
       "1628  Purchases & Consumption  Video Gaming  Mobile ...  \n",
       "1629    Purchases & Consumption  Video Gaming  PC Games  \n",
       "\n",
       "[1630 rows x 5 columns]"
      ]
     },
     "execution_count": 56,
     "metadata": {},
     "output_type": "execute_result"
    }
   ],
   "source": [
    "df = pd.read_csv(\"~/anaconda3/envs/daniel_dev/git/data/source_segments_angepasst.csv\", encoding = \"ISO-8859-1\", sep=';')\n",
    "df.drop(columns=['Unnamed: 5'], inplace=True)\n",
    "source_df = df.copy()\n",
    "source_df"
   ]
  },
  {
   "cell_type": "markdown",
   "metadata": {},
   "source": [
    "## Build a Semantic Text Similarity Class"
   ]
  },
  {
   "cell_type": "code",
   "execution_count": 67,
   "metadata": {},
   "outputs": [],
   "source": [
    "# Implement Semantic Text Similarity Class\n",
    "# implement Classifier\n",
    "# The SentenceBERT model is used which is a modification of BERT that was developed especially for text similarity tasks\n",
    "# It is much faster than BERT and thus more scalable\n",
    "class STS():\n",
    "  # generate the SentenceBERT model\n",
    "  def __init__(self, model_name=\"sentence-transformers/all-MiniLM-L6-v2\"):\n",
    "    super().__init__()\n",
    "    self.model = SentenceTransformer(model_name)\n",
    "\n",
    "  # function to generate the embeddings through the .encode function which generates an embedding using the CLS token\n",
    "  def generate_embeddings(self, source_df, target_df):\n",
    "    source_embeddings = self.model.encode(source_df[\"label_name\"])\n",
    "    target_embeddings = self.model.encode(target_df[\"description\"])\n",
    "    return source_embeddings, target_embeddings\n",
    "  \n",
    "  # compare each of the target segment with each of the source segments and safe the one with the highest cosine similarity\n",
    "  # In the context of comparing embeddings, cosine similarity measures the cosine of the angle between the two embedding vectors.\n",
    "  # If the angle is small (i.e., the vectors point in roughly the same direction), the cosine similarity will be close to 1, indicating high similarity.\n",
    "  # If the angle is large (i.e., the vectors point in different directions), the cosine similarity will be close to -1 or 0, indicating low similarity.\n",
    "  def find_most_similar(self, source_df, target_df):\n",
    "        source_embeddings, target_embeddings = self.generate_embeddings(source_df, target_df)\n",
    "        similarities = cosine_similarity(target_embeddings, source_embeddings)\n",
    "        max_similarities_idx = np.argmax(similarities, axis=1)\n",
    "        max_similarities = np.max(similarities, axis=1)\n",
    "        return max_similarities_idx, max_similarities\n"
   ]
  },
  {
   "cell_type": "code",
   "execution_count": 68,
   "metadata": {},
   "outputs": [],
   "source": [
    "# Instantiation and similarities generation\n",
    "sts_instance = STS()\n",
    "max_similarities_idx, max_similarities = sts_instance.find_most_similar(source_df, target_df)"
   ]
  },
  {
   "cell_type": "markdown",
   "metadata": {},
   "source": [
    "## Print the output in a readable manner"
   ]
  },
  {
   "cell_type": "code",
   "execution_count": 81,
   "metadata": {},
   "outputs": [
    {
     "name": "stdout",
     "output_type": "stream",
     "text": [
      "Target Segment '1', Description: 'PartnerSolutions > 208838 > Interest > Home & Garden > Home Appliances > Kitchenware_\n",
      "is most similar to\n",
      "Source Segment '21408020000', Description: 'interets related to home and garden', label_name: 'Interest  Home & Garden  Kitchen and Dining Products  Tableware' of the source list\n",
      "The cosine similarity score is: 0.6466765403747559\n",
      "-----------------------------------------------------------------------------\n",
      "Target Segment '2', Description: 'PartnerSolutions > 208758 > Interest > Sports > Football > Bayern Munich_\n",
      "is most similar to\n",
      "Source Segment '22340000000', Description: 'interest in consuming sports or equipment', label_name: 'Interest  Sports  Soccer' of the source list\n",
      "The cosine similarity score is: 0.5065775513648987\n",
      "-----------------------------------------------------------------------------\n",
      "Target Segment '3', Description: 'Technology & Computing - MediaGroup DACH - Industrie 4.0 / Industry 4.0_\n",
      "is most similar to\n",
      "Source Segment '22504010000', Description: 'interest in technology and consumer electronics', label_name: 'Interest  Technology & Computing  Consumer Electronics  Audio' of the source list\n",
      "The cosine similarity score is: 0.4522644281387329\n",
      "-----------------------------------------------------------------------------\n",
      "Target Segment '4', Description: 'Media & Enertainment - MediaGroup DACH - Movies / Action_\n",
      "is most similar to\n",
      "Source Segment '21501000000', Description: 'interest in movies and movie genres', label_name: 'Interest  Movies and Series  Action and Adventure Movies' of the source list\n",
      "The cosine similarity score is: 0.49069204926490784\n",
      "-----------------------------------------------------------------------------\n",
      "Target Segment '5', Description: 'letriq age: 18-19 @adality_\n",
      "is most similar to\n",
      "Source Segment '10102000000', Description: 'age', label_name: 'Demographic  Age Range  18-24' of the source list\n",
      "The cosine similarity score is: 0.49753060936927795\n",
      "-----------------------------------------------------------------------------\n",
      "Target Segment '6', Description: 'letriq age: females @adality_\n",
      "is most similar to\n",
      "Source Segment '10401000000', Description: 'gender', label_name: 'Demographic  Gender  Female' of the source list\n",
      "The cosine similarity score is: 0.5169142484664917\n",
      "-----------------------------------------------------------------------------\n",
      "Target Segment '7', Description: 'HDGQ Branche/Industrie: automobil/fahrzeugbau/maschinenbau extended_\n",
      "is most similar to\n",
      "Source Segment '20403070000', Description: 'interest in business and finance topics', label_name: 'Interest  Business and Finance  Industries  Civil Engineering Industry' of the source list\n",
      "The cosine similarity score is: 0.32770323753356934\n",
      "-----------------------------------------------------------------------------\n",
      "Target Segment '8', Description: 'HDGQ Branche/Industrie: Finanzservices/Banken/Privatbanken extended_\n",
      "is most similar to\n",
      "Source Segment '20401010000', Description: 'interest in business and finance topics', label_name: 'Interest  Business and Finance  Business  Banking & Finance' of the source list\n",
      "The cosine similarity score is: 0.48133671283721924\n",
      "-----------------------------------------------------------------------------\n"
     ]
    }
   ],
   "source": [
    "# use i to iterate through the target_df\n",
    "i = 0\n",
    "for idx in max_similarities_idx:\n",
    "    if idx in source_df.index:\n",
    "        # Search for label_id_long, segment_description, and label_name in the source_df to output which segment has the highest similarity\n",
    "        label_id = source_df.loc[idx, 'label_id_long']\n",
    "        label_description = source_df.loc[idx, 'segment_description']\n",
    "        label_name = source_df.loc[idx, 'label_name']\n",
    "        print(f\"Target Segment '{target_df.loc[i, 'segment_id']}', Description: '{target_df.loc[i, 'description']}_\")\n",
    "        print(\"is most similar to\")\n",
    "        print(f\"Source Segment '{label_id}', Description: '{label_description}', label_name: '{label_name}' of the source list\")\n",
    "        print(f\"The cosine similarity score is: {max_similarities[i]}\")\n",
    "        print(\"-----------------------------------------------------------------------------\")\n",
    "    else:\n",
    "        print(f\"No data found for index: {idx}\")\n",
    "    i = i + 1   "
   ]
  },
  {
   "cell_type": "code",
   "execution_count": 70,
   "metadata": {},
   "outputs": [
    {
     "data": {
      "text/plain": [
       "array([0.64667654, 0.50657755, 0.45226443, 0.49069205, 0.4975306 ,\n",
       "       0.51691425, 0.32770324, 0.4813367 ], dtype=float32)"
      ]
     },
     "execution_count": 70,
     "metadata": {},
     "output_type": "execute_result"
    }
   ],
   "source": [
    "max_similarities"
   ]
  }
 ],
 "metadata": {
  "kernelspec": {
   "display_name": "daniel_dev",
   "language": "python",
   "name": "python3"
  },
  "language_info": {
   "codemirror_mode": {
    "name": "ipython",
    "version": 3
   },
   "file_extension": ".py",
   "mimetype": "text/x-python",
   "name": "python",
   "nbconvert_exporter": "python",
   "pygments_lexer": "ipython3",
   "version": "3.12.2"
  }
 },
 "nbformat": 4,
 "nbformat_minor": 2
}
