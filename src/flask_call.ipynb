{
 "cells": [
  {
   "cell_type": "markdown",
   "metadata": {},
   "source": [
    "## Create Flask Call"
   ]
  },
  {
   "cell_type": "code",
   "execution_count": 11,
   "metadata": {},
   "outputs": [],
   "source": [
    "import requests\n",
    "import json"
   ]
  },
  {
   "cell_type": "markdown",
   "metadata": {},
   "source": [
    "## Load the test JSON Data"
   ]
  },
  {
   "cell_type": "code",
   "execution_count": 12,
   "metadata": {},
   "outputs": [],
   "source": [
    "# Load JSON data from file\n",
    "with open('C:/Users/danie/anaconda3/envs/daniel_dev/git/data/test_audiences.json', 'r') as file:\n",
    "    data = json.load(file)"
   ]
  },
  {
   "cell_type": "markdown",
   "metadata": {},
   "source": [
    "## Create POST request"
   ]
  },
  {
   "cell_type": "code",
   "execution_count": 24,
   "metadata": {},
   "outputs": [],
   "source": [
    "res = requests.post(\n",
    "    url=\"http://127.0.0.1:8080/predict\",\n",
    "    json=data\n",
    ")"
   ]
  },
  {
   "cell_type": "markdown",
   "metadata": {},
   "source": [
    "## Results"
   ]
  },
  {
   "cell_type": "code",
   "execution_count": 23,
   "metadata": {},
   "outputs": [
    {
     "data": {
      "text/plain": [
       "{'results': '[{\"Target Segment\": 1, \"Target Description\": \"PartnerSolutions > 208838 > Interest > Home & Garden > Home Appliances > Kitchenware\", \"Source Segment\": 21408020000, \"Source Description\": \"interets related to home and garden\", \"Source Label Name\": \"Interest  Home & Garden  Kitchen and Dining Products  Tableware\", \"Cosine Similarity Score\": 0.6466765403747559}, {\"Target Segment\": 2, \"Target Description\": \"PartnerSolutions > 208758 > Interest > Sports > Football > Bayern Munich\", \"Source Segment\": 22340000000, \"Source Description\": \"interest in consuming sports or equipment\", \"Source Label Name\": \"Interest  Sports  Soccer\", \"Cosine Similarity Score\": 0.5065775513648987}, {\"Target Segment\": 3, \"Target Description\": \"Technology & Computing - MediaGroup DACH - Industrie 4.0 / Industry 4.0\", \"Source Segment\": 22504010000, \"Source Description\": \"interest in technology and consumer electronics\", \"Source Label Name\": \"Interest  Technology & Computing  Consumer Electronics  Audio\", \"Cosine Similarity Score\": 0.4522644281387329}, {\"Target Segment\": 4, \"Target Description\": \"Media & Enertainment - MediaGroup DACH - Movies / Action\", \"Source Segment\": 21501000000, \"Source Description\": \"interest in movies and movie genres\", \"Source Label Name\": \"Interest  Movies and Series  Action and Adventure Movies\", \"Cosine Similarity Score\": 0.49069204926490784}, {\"Target Segment\": 5, \"Target Description\": \"letriq age: 18-19 @adality\", \"Source Segment\": 10102000000, \"Source Description\": \"age\", \"Source Label Name\": \"Demographic  Age Range  18-24\", \"Cosine Similarity Score\": 0.49753060936927795}, {\"Target Segment\": 6, \"Target Description\": \"letriq age: females @adality\", \"Source Segment\": 10401000000, \"Source Description\": \"gender\", \"Source Label Name\": \"Demographic  Gender  Female\", \"Cosine Similarity Score\": 0.5169142484664917}, {\"Target Segment\": 7, \"Target Description\": \"HDGQ Branche/Industrie: automobil/fahrzeugbau/maschinenbau extended\", \"Source Segment\": 20403070000, \"Source Description\": \"interest in business and finance topics\", \"Source Label Name\": \"Interest  Business and Finance  Industries  Civil Engineering Industry\", \"Cosine Similarity Score\": 0.32770323753356934}, {\"Target Segment\": 8, \"Target Description\": \"HDGQ Branche/Industrie: Finanzservices/Banken/Privatbanken extended\", \"Source Segment\": 20401010000, \"Source Description\": \"interest in business and finance topics\", \"Source Label Name\": \"Interest  Business and Finance  Business  Banking & Finance\", \"Cosine Similarity Score\": 0.48133671283721924}]'}"
      ]
     },
     "execution_count": 23,
     "metadata": {},
     "output_type": "execute_result"
    }
   ],
   "source": [
    "res.json()"
   ]
  }
 ],
 "metadata": {
  "kernelspec": {
   "display_name": "daniel_dev",
   "language": "python",
   "name": "python3"
  },
  "language_info": {
   "codemirror_mode": {
    "name": "ipython",
    "version": 3
   },
   "file_extension": ".py",
   "mimetype": "text/x-python",
   "name": "python",
   "nbconvert_exporter": "python",
   "pygments_lexer": "ipython3",
   "version": "3.12.2"
  }
 },
 "nbformat": 4,
 "nbformat_minor": 2
}
